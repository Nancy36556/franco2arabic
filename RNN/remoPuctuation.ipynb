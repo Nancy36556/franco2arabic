{
 "cells": [
  {
   "cell_type": "code",
   "execution_count": 3,
   "metadata": {},
   "outputs": [],
   "source": [
    "import re\n",
    "def remopunctuation(file_name, output_file_name):\n",
    "    def remove_punctuation(text):\n",
    "        pattern = r\"[^\\w\\s]\"\n",
    "        return re.sub(pattern, \"\", text)\n",
    "    with open(file_name, 'r', encoding=\"utf8\") as f:\n",
    "        text = f.read()\n",
    "    text = remove_punctuation(text)\n",
    "    with open(output_file_name, 'w') as f:\n",
    "        f.write(text)\n"
   ]
  },
  {
   "cell_type": "code",
   "execution_count": 4,
   "metadata": {},
   "outputs": [],
   "source": [
    "# remopunctuation('franco-arabic.txt', 'withoutPunc.txt')"
   ]
  }
 ],
 "metadata": {
  "kernelspec": {
   "display_name": "Python 3",
   "language": "python",
   "name": "python3"
  },
  "language_info": {
   "codemirror_mode": {
    "name": "ipython",
    "version": 3
   },
   "file_extension": ".py",
   "mimetype": "text/x-python",
   "name": "python",
   "nbconvert_exporter": "python",
   "pygments_lexer": "ipython3",
   "version": "3.9.4"
  },
  "orig_nbformat": 4
 },
 "nbformat": 4,
 "nbformat_minor": 2
}
