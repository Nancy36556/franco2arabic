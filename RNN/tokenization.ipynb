{
 "cells": [
  {
   "cell_type": "code",
   "execution_count": 7,
   "metadata": {},
   "outputs": [],
   "source": [
    "import nltk\n",
    "def tokenization(inputFile, outputFile):\n",
    "    def tokenize_text(text):\n",
    "        nltk_tokens = nltk.sent_tokenize(text)\n",
    "        return nltk_tokens\n",
    "    with open(inputFile, 'r', encoding=\"utf8\") as f:\n",
    "        nltk_tokens = f.read()\n",
    "    # toc the text data\n",
    "    nltk_tokens = tokenize_text(nltk_tokens)\n",
    "    #saving the normalized text data\n",
    "    with open(outputFile, 'w') as f:\n",
    "        f.write(str(nltk_tokens))"
   ]
  }
 ],
 "metadata": {
  "kernelspec": {
   "display_name": "Python 3",
   "language": "python",
   "name": "python3"
  },
  "language_info": {
   "codemirror_mode": {
    "name": "ipython",
    "version": 3
   },
   "file_extension": ".py",
   "mimetype": "text/x-python",
   "name": "python",
   "nbconvert_exporter": "python",
   "pygments_lexer": "ipython3",
   "version": "3.9.4"
  },
  "orig_nbformat": 4
 },
 "nbformat": 4,
 "nbformat_minor": 2
}
