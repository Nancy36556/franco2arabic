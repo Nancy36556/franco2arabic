{
 "cells": [
  {
   "cell_type": "code",
   "execution_count": null,
   "metadata": {},
   "outputs": [],
   "source": [
    "import sys\n",
    "import time as t\n",
    "\n",
    "# def get_time():\n",
    "# \treturn t.strftime('%H:%M:%S')\n",
    "def remove_duplicates(fileName, outputFileName):\n",
    "\t\n",
    "\twith open(fileName, 'r', encoding=\"utf-8\") as f:\n",
    "\t\tfile = f.readlines()\n",
    "\n",
    "\twordList = []\n",
    "\tbadList = []\n",
    "\n",
    "\tfor line in file:\n",
    "\t\tif line in wordList:\n",
    "\t\t\tbadList.append(line)\n",
    "\t\telse:\n",
    "\t\t\twordList.append(line)\n",
    "\n",
    "\n",
    "\tfile = open(outputFileName, 'w', encoding=\"utf-8\")\n",
    "\n",
    "\tfor line in wordList:\n",
    "\t\tfile.write(line)\n",
    "\n",
    "\tfile.close()"
   ]
  }
 ],
 "metadata": {
  "language_info": {
   "name": "python"
  },
  "orig_nbformat": 4
 },
 "nbformat": 4,
 "nbformat_minor": 2
}
