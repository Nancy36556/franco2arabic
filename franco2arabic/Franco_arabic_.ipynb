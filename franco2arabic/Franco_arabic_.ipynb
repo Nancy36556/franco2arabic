{
  "nbformat": 4,
  "nbformat_minor": 0,
  "metadata": {
    "colab": {
      "provenance": []
    },
    "kernelspec": {
      "name": "python3",
      "display_name": "Python 3"
    },
    "language_info": {
      "name": "python"
    }
  },
  "cells": [
    {
      "cell_type": "code",
      "source": [
        "!pip install franco_arabic_transliterator"
      ],
      "metadata": {
        "colab": {
          "base_uri": "https://localhost:8080/"
        },
        "id": "-pjJ2Gtrv-ym",
        "outputId": "3e9eec13-9530-40c6-a98e-22469b72f137"
      },
      "execution_count": null,
      "outputs": [
        {
          "output_type": "stream",
          "name": "stdout",
          "text": [
            "Collecting franco_arabic_transliterator\n",
            "  Downloading franco_arabic_transliterator-0.0.1.5.tar.gz (1.9 MB)\n",
            "\u001b[2K     \u001b[90m━━━━━━━━━━━━━━━━━━━━━━━━━━━━━━━━━━━━━━━━\u001b[0m \u001b[32m1.9/1.9 MB\u001b[0m \u001b[31m6.2 MB/s\u001b[0m eta \u001b[36m0:00:00\u001b[0m\n",
            "\u001b[?25h  Preparing metadata (setup.py) ... \u001b[?25l\u001b[?25hdone\n",
            "Collecting hfst (from franco_arabic_transliterator)\n",
            "  Downloading hfst-3.12.2.4b0.tar.gz (1.5 MB)\n",
            "\u001b[2K     \u001b[90m━━━━━━━━━━━━━━━━━━━━━━━━━━━━━━━━━━━━━━━━\u001b[0m \u001b[32m1.5/1.5 MB\u001b[0m \u001b[31m14.1 MB/s\u001b[0m eta \u001b[36m0:00:00\u001b[0m\n",
            "\u001b[?25h  Preparing metadata (setup.py) ... \u001b[?25l\u001b[?25hdone\n",
            "Building wheels for collected packages: franco_arabic_transliterator, hfst\n",
            "  Building wheel for franco_arabic_transliterator (setup.py) ... \u001b[?25l\u001b[?25hdone\n",
            "  Created wheel for franco_arabic_transliterator: filename=franco_arabic_transliterator-0.0.1.5-py3-none-any.whl size=1997518 sha256=9c3564542734caacac723aef42fc15ee18a0ccebba9fe510f1b8c240740ec46a\n",
            "  Stored in directory: /root/.cache/pip/wheels/5b/e5/21/7405709dc586e673f216968f130a6122361882170ca1ff04f7\n",
            "  Building wheel for hfst (setup.py) ... \u001b[?25l\u001b[?25hdone\n",
            "  Created wheel for hfst: filename=hfst-3.12.2.4b0-cp310-cp310-linux_x86_64.whl size=39687389 sha256=6f65aa5c3973ad653b7686f05553f2dc5799111b68401e44d2b193808b9e2c45\n",
            "  Stored in directory: /root/.cache/pip/wheels/d1/83/98/32097686011421c193cd54d331292b63b8196a80d351272955\n",
            "Successfully built franco_arabic_transliterator hfst\n",
            "Installing collected packages: hfst, franco_arabic_transliterator\n",
            "Successfully installed franco_arabic_transliterator-0.0.1.5 hfst-3.12.2.4b0\n"
          ]
        }
      ]
    },
    {
      "cell_type": "code",
      "source": [
        "import pytest\n",
        "from franco_arabic_transliterator.franco_arabic_transliterator import FrancoArabicTransliterator\n",
        "\n",
        "\n",
        "def test_generate_output():\n",
        "\ttransliterator = FrancoArabicTransliterator()\n",
        "\tword =input('enter franco txt : ')\n",
        "\ttransliterated_word = transliterator.transliterate(word, None)\n",
        "\tassert(transliterated_word)"
      ],
      "metadata": {
        "id": "cgrk7u9i-6jf"
      },
      "execution_count": null,
      "outputs": []
    },
    {
      "cell_type": "code",
      "source": [
        "from franco_arabic_transliterator.franco_arabic_transliterator import *\n",
        "text = input('enter franco txt : ')\n",
        "# with open(fileName, 'r', encoding=\"utf8\") as f:\n",
        "#         text = f.read()\n",
        "transliterator = FrancoArabicTransliterator()\n",
        "\n",
        "print(transliterator.transliterate(text, method=\"lexicon\"))"
      ],
      "metadata": {
        "colab": {
          "base_uri": "https://localhost:8080/"
        },
        "id": "0qGUiJVscsBK",
        "outputId": "6400ec1b-e4b6-4cb3-8e50-96316713797a"
      },
      "execution_count": null,
      "outputs": [
        {
          "output_type": "stream",
          "name": "stdout",
          "text": [
            "enter franco txt : bkrh\n",
            "بكره\n"
          ]
        }
      ]
    }
  ]
}